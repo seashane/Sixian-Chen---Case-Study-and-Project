{
 "cells": [
  {
   "cell_type": "markdown",
   "metadata": {},
   "source": [
    "## Using Tableau Dashboard To Visualize Dog Bites Statistics In New York States\n",
    "Sixian Chen\n",
    "\n",
    "12/22/2020\n",
    "\n",
    "LinkedIn: http://linkedin.com/in/seashane-sixian-chen"
   ]
  },
  {
   "cell_type": "markdown",
   "metadata": {},
   "source": [
    "\n",
    "<div class=\"alert alert-block alert-info\">\n",
    "    \n",
    "#### Data Source:\n",
    "\n",
    "https://data.cityofnewyork.us/Health/DOHMH-Dog-Bite-Data/rsgh-akpg\n",
    "    \n",
    "#### Data Visualization - Tableau Dashboard:\n",
    "\n",
    "https://public.tableau.com/views/FinalProjectTableau_16070491314040/Dashboard1?:language=en&:display_count=y&publish=yes&:origin=viz_share_link\n",
    "\n",
    " \n",
    "\n",
    "#### Big Idea:   \n",
    "In order to prevent dog bites, a person should avoid contacting young male Pit Bulls, which have not been spay neutered, in Central Queens, during the summer time, especially in July.  \n",
    "\n",
    " \n",
    "\n",
    "#### Analysis:  \n",
    "\n",
    "Data is collected from reports received online, mail, fax or by phone to 311 or NYC DOHMH Animal Bite Unit from 2015 to 2017. Each record represents a single dog bite incident. Information on breed, age, gender and spayed or neutered status have not been verified by DOHMH and is listed only as reported to DOHMH.  \n",
    "\n",
    "1. Tree map: The tree map shows the statistics of dog bites cases by different dog breeds. Breeds in darker color boxes represent more counts of cases from those breeds. Based on the diagram, most of the cases came from Pit Bulls, with an average age of 3.88. The following breeds are Shih Tzu and Chihuahua.  \n",
    "\n",
    "2. Area chart: The Area Chart shows the counts of dog bites cases by dogs ages and gender. Based on the diagram, most of the cases came from male dogs, and most of the dog bites cases were happened when the dogs are around 2 years old.  \n",
    "\n",
    "3. Bar chart: The bar chart shows the count of dog bites case by boroughs in NYC, with segmentation in years (from 2015 to 2017). Darker color segments represent that the statistics are more recent. Based on the diagram, Queens has the most dog bites cases, following by Manhattan and Brooklyn.  \n",
    " \n",
    "4. Combination chart: The combination chart has two types of chart. The area charts show the count of cases by months, and the bar charts shows the differences of cases compared to the prior month. The combination chart is segmented by the status of spay neuter. Based on the diagram, summer time, especially in July and August, has the most counts of cases. However, for the dogs that have been neutered, the cases count does not have big differences by months, and each month's record is close to the average. Cases claimed even decreased in July, compared to June’s record.  \n",
    "\n",
    "5. Dual map: The top part of the dual map shows the cases by zip codes. Darker area means that the area has more dog bites cases. The bottom part of dual map shows the counts of cases with the dogs spay neuter status. Bigger mark means that there were more cases in that area; Darker mark represents the higher ratios of cases that dogs have been neutered. Based on the diagram, Dogs in Bronx are more likely to be neutered than other areas. Most of the cases were happened in central queens, central Bronx, and northeastern Brooklyn.  \n",
    "<div>\n",
    "   "
   ]
  },
  {
   "cell_type": "code",
   "execution_count": 27,
   "metadata": {
    "scrolled": false
   },
   "outputs": [
    {
     "data": {
      "text/html": [
       "<div class='tableauPlaceholder' id='viz1608671303721' style='position: relative'><noscript><a href='#'><img alt=' ' src='https:&#47;&#47;public.tableau.com&#47;static&#47;images&#47;Fi&#47;FinalProjectTableau_16070491314040&#47;Dashboard1&#47;1_rss.png' style='border: none' /></a></noscript><object class='tableauViz'  style='display:none;'><param name='host_url' value='https%3A%2F%2Fpublic.tableau.com%2F' /> <param name='embed_code_version' value='3' /> <param name='site_root' value='' /><param name='name' value='FinalProjectTableau_16070491314040&#47;Dashboard1' /><param name='tabs' value='no' /><param name='toolbar' value='yes' /><param name='static_image' value='https:&#47;&#47;public.tableau.com&#47;static&#47;images&#47;Fi&#47;FinalProjectTableau_16070491314040&#47;Dashboard1&#47;1.png' /> <param name='animate_transition' value='yes' /><param name='display_static_image' value='yes' /><param name='display_spinner' value='yes' /><param name='display_overlay' value='yes' /><param name='display_count' value='yes' /><param name='language' value='en' /><param name='filter' value='publish=yes' /></object></div>                <script type='text/javascript'>                    var divElement = document.getElementById('viz1608671303721');                    var vizElement = divElement.getElementsByTagName('object')[0];                    if ( divElement.offsetWidth > 800 ) { vizElement.style.width='1000px';vizElement.style.height='4527px';} else if ( divElement.offsetWidth > 500 ) { vizElement.style.width='1000px';vizElement.style.height='4527px';} else { vizElement.style.width='100%';vizElement.style.height='3077px';}                     var scriptElement = document.createElement('script');                    scriptElement.src = 'https://public.tableau.com/javascripts/api/viz_v1.js';                    vizElement.parentNode.insertBefore(scriptElement, vizElement);                </script>\n"
      ],
      "text/plain": [
       "<IPython.core.display.HTML object>"
      ]
     },
     "metadata": {},
     "output_type": "display_data"
    }
   ],
   "source": [
    "%%html\n",
    "<div class='tableauPlaceholder' id='viz1608671303721' style='position: relative'><noscript><a href='#'><img alt=' ' src='https:&#47;&#47;public.tableau.com&#47;static&#47;images&#47;Fi&#47;FinalProjectTableau_16070491314040&#47;Dashboard1&#47;1_rss.png' style='border: none' /></a></noscript><object class='tableauViz'  style='display:none;'><param name='host_url' value='https%3A%2F%2Fpublic.tableau.com%2F' /> <param name='embed_code_version' value='3' /> <param name='site_root' value='' /><param name='name' value='FinalProjectTableau_16070491314040&#47;Dashboard1' /><param name='tabs' value='no' /><param name='toolbar' value='yes' /><param name='static_image' value='https:&#47;&#47;public.tableau.com&#47;static&#47;images&#47;Fi&#47;FinalProjectTableau_16070491314040&#47;Dashboard1&#47;1.png' /> <param name='animate_transition' value='yes' /><param name='display_static_image' value='yes' /><param name='display_spinner' value='yes' /><param name='display_overlay' value='yes' /><param name='display_count' value='yes' /><param name='language' value='en' /><param name='filter' value='publish=yes' /></object></div>                <script type='text/javascript'>                    var divElement = document.getElementById('viz1608671303721');                    var vizElement = divElement.getElementsByTagName('object')[0];                    if ( divElement.offsetWidth > 800 ) { vizElement.style.width='1000px';vizElement.style.height='4527px';} else if ( divElement.offsetWidth > 500 ) { vizElement.style.width='1000px';vizElement.style.height='4527px';} else { vizElement.style.width='100%';vizElement.style.height='3077px';}                     var scriptElement = document.createElement('script');                    scriptElement.src = 'https://public.tableau.com/javascripts/api/viz_v1.js';                    vizElement.parentNode.insertBefore(scriptElement, vizElement);                </script>"
   ]
  },
  {
   "cell_type": "code",
   "execution_count": null,
   "metadata": {},
   "outputs": [],
   "source": []
  }
 ],
 "metadata": {
  "celltoolbar": "Raw Cell Format",
  "hide_input": false,
  "kernelspec": {
   "display_name": "Python 3",
   "language": "python",
   "name": "python3"
  },
  "language_info": {
   "codemirror_mode": {
    "name": "ipython",
    "version": 3
   },
   "file_extension": ".py",
   "mimetype": "text/x-python",
   "name": "python",
   "nbconvert_exporter": "python",
   "pygments_lexer": "ipython3",
   "version": "3.8.5"
  }
 },
 "nbformat": 4,
 "nbformat_minor": 4
}
